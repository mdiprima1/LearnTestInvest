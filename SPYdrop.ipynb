{
  "nbformat": 4,
  "nbformat_minor": 0,
  "metadata": {
    "colab": {
      "provenance": [],
      "authorship_tag": "ABX9TyORfl755H9DPFCgizYi0QM/",
      "include_colab_link": true
    },
    "kernelspec": {
      "name": "python3",
      "display_name": "Python 3"
    },
    "language_info": {
      "name": "python"
    }
  },
  "cells": [
    {
      "cell_type": "markdown",
      "metadata": {
        "id": "view-in-github",
        "colab_type": "text"
      },
      "source": [
        "<a href=\"https://colab.research.google.com/github/mdiprima1/LearnTestInvest/blob/main/SPYdrop.ipynb\" target=\"_parent\"><img src=\"https://colab.research.google.com/assets/colab-badge.svg\" alt=\"Open In Colab\"/></a>"
      ]
    },
    {
      "cell_type": "code",
      "execution_count": 1,
      "metadata": {
        "colab": {
          "base_uri": "https://localhost:8080/"
        },
        "id": "X4aGJiSwh8fy",
        "outputId": "d4b40e2b-73b9-428b-e020-14b669e5b821"
      },
      "outputs": [
        {
          "output_type": "stream",
          "name": "stderr",
          "text": [
            "\r[*********************100%***********************]  1 of 1 completed"
          ]
        },
        {
          "output_type": "stream",
          "name": "stdout",
          "text": [
            "Out of 5031 trading days, the SPY dropped more than 3% on 75 days.\n"
          ]
        },
        {
          "output_type": "stream",
          "name": "stderr",
          "text": [
            "\n"
          ]
        }
      ],
      "source": [
        "import yfinance as yf\n",
        "import pandas as pd\n",
        "from datetime import datetime, timedelta\n",
        "\n",
        "# Define the time period\n",
        "end_date = datetime.now()\n",
        "start_date = end_date - timedelta(days=20*365)  # 20 years from today\n",
        "\n",
        "# Download daily SPY data\n",
        "data = yf.download('SPY', start=start_date.strftime('%Y-%m-%d'), end=end_date.strftime('%Y-%m-%d'), interval='1d')\n",
        "\n",
        "# Calculate daily percentage change\n",
        "data['Daily Change (%)'] = data['Adj Close'].pct_change() * 100\n",
        "\n",
        "# Filter days where the SPY dropped more than 3%\n",
        "drop_days = data[data['Daily Change (%)'] < -3]\n",
        "\n",
        "# Calculate the total number of trading days and the number of drop days\n",
        "total_days = data.shape[0]\n",
        "drop_days_count = drop_days.shape[0]\n",
        "\n",
        "# Print the result\n",
        "print(f\"Out of {total_days} trading days, the SPY dropped more than 3% on {drop_days_count} days.\")"
      ]
    }
  ]
}