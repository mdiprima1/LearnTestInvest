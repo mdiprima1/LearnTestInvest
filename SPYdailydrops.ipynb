{
  "nbformat": 4,
  "nbformat_minor": 0,
  "metadata": {
    "colab": {
      "provenance": [],
      "authorship_tag": "ABX9TyMN8+ial3s+zJHfvn//ryqP",
      "include_colab_link": true
    },
    "kernelspec": {
      "name": "python3",
      "display_name": "Python 3"
    },
    "language_info": {
      "name": "python"
    }
  },
  "cells": [
    {
      "cell_type": "markdown",
      "metadata": {
        "id": "view-in-github",
        "colab_type": "text"
      },
      "source": [
        "<a href=\"https://colab.research.google.com/github/mdiprima1/LearnTestInvest/blob/main/SPYdailydrops.ipynb\" target=\"_parent\"><img src=\"https://colab.research.google.com/assets/colab-badge.svg\" alt=\"Open In Colab\"/></a>"
      ]
    },
    {
      "cell_type": "code",
      "execution_count": 6,
      "metadata": {
        "colab": {
          "base_uri": "https://localhost:8080/"
        },
        "id": "oM2ED3UWcm-R",
        "outputId": "ebd0bf81-b359-42d4-cf28-f4f76f7ad9ee"
      },
      "outputs": [
        {
          "output_type": "stream",
          "name": "stderr",
          "text": [
            "\r[*********************100%***********************]  1 of 1 completed"
          ]
        },
        {
          "output_type": "stream",
          "name": "stdout",
          "text": [
            "Out of 5031 trading days, the SPY dropped more than 3% 75 times.\n"
          ]
        },
        {
          "output_type": "stream",
          "name": "stderr",
          "text": [
            "\n"
          ]
        }
      ],
      "source": [
        "import yfinance as yf\n",
        "import pandas as pd\n",
        "from datetime import datetime, timedelta\n",
        "\n",
        "# Define the ticker and period\n",
        "ticker = 'SPY'\n",
        "end_date = datetime.now().strftime('%Y-%m-%d')\n",
        "start_date = (datetime.now() - timedelta(days=20*365)).strftime('%Y-%m-%d')\n",
        "\n",
        "# Download daily SPY prices for the last 20 years\n",
        "data = yf.download(ticker, start=start_date, end=end_date)\n",
        "\n",
        "# Calculate the daily percentage change\n",
        "data['Daily Change %'] = data['Close'].pct_change() * 100\n",
        "\n",
        "# Count the days where the SPY dropped more than 3%\n",
        "drop_days = data[data['Daily Change %'] < -3]\n",
        "total_days = data.shape[0]\n",
        "drop_count = drop_days.shape[0]\n",
        "\n",
        "# Print the result\n",
        "print(f\"Out of {total_days} trading days, the SPY dropped more than 3% {drop_count} times.\")"
      ]
    }
  ]
}